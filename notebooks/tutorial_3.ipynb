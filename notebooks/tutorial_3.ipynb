{
 "cells": [
  {
   "cell_type": "markdown",
   "metadata": {},
   "source": [
    "# **Getting Experience**\n",
    "\n",
    "\n",
    "**Note**: *You may initialize a small Transformer model if you wish to see it in action but it is computationally expensive and not recommended to use in this environment. You should focus on using the `RNN` for this exercise.*"
   ]
  },
  {
   "cell_type": "markdown",
   "metadata": {},
   "source": [
    "The objective of this module is for you to get experience in experimenting with different model parameters and see how they influence the computation of your observables. In the previous tutorial, you used a pretrained network to compute observables. In this case, you will train your own network and use it."
   ]
  },
  {
   "cell_type": "markdown",
   "metadata": {},
   "source": [
    "# Knowing Our ToolBox"
   ]
  },
  {
   "cell_type": "markdown",
   "metadata": {},
   "source": [
    "## Set Up the File System\n",
    "\n",
    "Set up the file system to accommodate the imports that we need"
   ]
  },
  {
   "cell_type": "code",
   "execution_count": null,
   "metadata": {},
   "outputs": [],
   "source": [
    "import sys\n",
    "import pathlib\n",
    "\n",
    "# Calculate the path to the src directory\n",
    "src_path = pathlib.Path('__file__').resolve().parent.parent / 'src'\n",
    "obs_path = pathlib.Path('__file__').resolve().parent.parent / \"notebooks\" / \"observables\"\n",
    "\n",
    "\n",
    "# Add src directory to sys.path\n",
    "for path in (src_path, obs_path):\n",
    "    if src_path not in sys.path:\n",
    "        sys.path.append(str(path))\n",
    "\n",
    "\n",
    "# Verify that the path has been added\n",
    "print(f\"sys.path: {sys.path}\")"
   ]
  },
  {
   "cell_type": "markdown",
   "metadata": {},
   "source": [
    "## Interactions\n",
    "\n",
    "### Interaction Type\n",
    "We will first play around with different kinds of interactions between the Rydberg atoms. For this, the class `InteractionType` provides us with the option to select one of the following interaction functions:\n",
    "\n",
    "- Nearest Neigbour interactions as `InteractionType.NN`\n",
    "- Nearest Nearest Neigbour interactions as `InteractionType.NNN`\n",
    "- All to all interactions as `InteractionType.ALL2ALL`\n",
    "\n",
    "You select whichever you desire.\n",
    "\n",
    "### van der Waals Potential\n",
    "\n",
    "Using\n",
    "\n",
    "$$V_{ij} = \\frac{C_6}{r_{ij}^6}\\ \\text{\\ where\\ }\\ C_6 = \\Omega R_b^6$$,\n",
    "\n",
    "we get\n",
    "\n",
    "$$V_{ij} = \\frac{\\Omega R_b^6}{r_{ij}^6}$$.\n",
    "\n",
    "You can define the interaction potential by supplying\n",
    "\n",
    "- $\\Omega$: Rabi frequency; the default is $\\Omega = 1$.\n",
    "\n",
    "- $R_{\\mathrm{b}}$: Rydberg blockade radius; the default is $R_b = 7^{\\frac{1}{6}}$\n",
    "\n",
    "\n",
    "All these would need to be plugged into the `InteractionsInput` class. The `get_interaction` takes two inputs to return a tuple. It takes the following\n",
    "\n",
    "\n",
    "- `n`: this is the width / height of your lattice. $n = 4$ for a $4 x 4$ lattice\n",
    "- `interac_input`: this should be an instance of the `InteractionsInput` mentioned earlier.\n",
    "\n",
    "It then returns \n",
    "\n",
    "- `unique_pairs` - all the possible lattice pairs ${ij}$ as chosen in your interaction type\n",
    "- `multipliers` - their multiplier coefficients $V_{ij}$\n",
    "\n",
    "You can now vary the parameters $\\Omega$ and $R_{\\mathrm{b}}$, as well as the interaction type using the following code:"
   ]
  },
  {
   "cell_type": "code",
   "execution_count": null,
   "metadata": {},
   "outputs": [],
   "source": [
    "import interactions as itrs"
   ]
  },
  {
   "cell_type": "code",
   "execution_count": null,
   "metadata": {},
   "outputs": [],
   "source": [
    "Omega = 0.5 # Set the Rabi frequency\n",
    "rydberg_blockade = pow(7, 1/6) # Set the Rydberg blockade radius\n",
    "inter_type = itrs.InteractionType.ALL2ALL\n",
    "my_input = itrs.InteractionsInput(\n",
    "    interaction_type = inter_type,\n",
    "    Omega = Omega,\n",
    "    rydberg_blockade = rydberg_blockade\n",
    ")\n",
    "\n",
    "print(f\"My input looks like: \\n\\t{my_input}\")\n",
    "\n",
    "unique_pairs, multipliers = itrs.get_interactions(4, my_input)"
   ]
  },
  {
   "cell_type": "code",
   "execution_count": null,
   "metadata": {},
   "outputs": [],
   "source": [
    "unique_pairs.shape"
   ]
  },
  {
   "cell_type": "code",
   "execution_count": null,
   "metadata": {},
   "outputs": [],
   "source": [
    "multipliers.shape"
   ]
  },
  {
   "cell_type": "markdown",
   "metadata": {},
   "source": [
    "## Variational Ansatz\n",
    "\n",
    "Now, let us look at the provided `VMC` class. This class provides you with the following methods:\n",
    "\n",
    "- `sample`: for sampling from the network\n",
    "- `logpsi`: for computing the log of the squared wave function amplitudes\n",
    "- `local_energy`: for computing the local energies of the sample configurations\n",
    "- `loss`: for computing the loss function which in this case is the expectation value of the energy\n",
    "- `train`: this implements the training loop and returns the metric (energy expectation value) over the training iterations\n",
    "\n",
    "In this exercise, you will only need to initialize the class and call the `train` method. Every other operation will take place as defined in the class. The `VMC` class takes the following positional arguments:\n",
    "\n",
    "- `nsamples: int` - The number of generated samples\n",
    "- `n: int` - The width/height of the lattice ($n=4$ for a $4\\times 4$ lattice)\n",
    "- `learning_rate: float` - The mdoel weights are optimized using the `Adam` optimizer using the provided learning rate (step size)\n",
    "- `num_epochs: int` - Number of training iterations to take\n",
    "- `output_dim: int` - This will be 2 since we are dealing with spin-$\\frac{1}{2}$ system\n",
    "- `sequence_length: int` - This amounts to the total number of atoms $n \\times n$, e.g., $16$ for a $4 \\times 4$ lattice\n",
    "- `num_hidden_units: int` - Number of hidden units in the RNN. Increasing/decreasing the number of hidden units impacts the expressivity of the network. You may want to play around with this number.\n",
    "\n",
    "The `VMC` class can further take the following optional keyword argumnets. **You will have to pass them to the class in this exercise**:\n",
    "\n",
    "- `delta: Union[int, float]` - The detuning of the excited energy state\n",
    "- `Omega: Union[int, float]` - The Rabi oscillation frequency\n",
    "- `interactions: Optional[Callable]` - The `get_interactions` function\n",
    "- `interactions_input: Optional[Any]` - The inputs for `get_interactions` function"
   ]
  },
  {
   "cell_type": "code",
   "execution_count": null,
   "metadata": {},
   "outputs": [],
   "source": [
    "from jax import random\n",
    "from rnn_model import VMC, RNNModel\n",
    "from jax import numpy as jnp"
   ]
  },
  {
   "cell_type": "code",
   "execution_count": null,
   "metadata": {},
   "outputs": [],
   "source": [
    "delta = 1.0 # Set the detuning\n",
    "Omega = 0.5 # Set the Rabi frequency\n",
    "rydberg_blockade = pow(7, 1/6) # Set the Rydberg blockade radius\n",
    "\n",
    "# Define the interaction type\n",
    "inter_type = itrs.InteractionType.ALL2ALL\n",
    "\n",
    "my_input = itrs.InteractionsInput(\n",
    "    interaction_type = inter_type,\n",
    "    Omega = Omega,\n",
    "    rydberg_blockade = rydberg_blockade\n",
    ")\n",
    "\n",
    "vmc = VMC(\n",
    "    nsamples = 1000, \n",
    "    n = 4, \n",
    "    learning_rate = 0.05, \n",
    "    num_epochs = 500,\n",
    "    output_dim = 2, \n",
    "    sequence_length = 16,\n",
    "    num_hidden_units = 64,\n",
    "    delta = delta,\n",
    "    Omega = Omega,\n",
    "    interactions_func = itrs.get_interactions,\n",
    "    interactions_input = my_input,\n",
    ")\n",
    "\n",
    "vmc"
   ]
  },
  {
   "cell_type": "code",
   "execution_count": null,
   "metadata": {},
   "outputs": [],
   "source": [
    "# Prepare initial variables\n",
    "\n",
    "d_key = random.PRNGKey(0)\n",
    "\n",
    "# Initialize model\n",
    "model = RNNModel(\n",
    "    output_dim = vmc.output_dim,\n",
    "    num_hidden_units = vmc.num_hidden_units\n",
    ")\n",
    "\n",
    "# Initialize model parameters\n",
    "input = jnp.zeros((vmc.nsamples, vmc.sequence_length, vmc.output_dim))\n",
    "params = model.init(random.PRNGKey(0), input)\n",
    "\n",
    "\n",
    "# Run training loop\n",
    "e_den, latest_params = vmc.train(random.PRNGKey(123), params, model, return_params=True)"
   ]
  },
  {
   "cell_type": "markdown",
   "metadata": {},
   "source": [
    "# YOUR TASK\n",
    "\n",
    "You can now train your own network and use it to compute different observables - you can look at $\\langle\\hat{\\sigma}^z\\rangle$, as well as $\\langle\\hat{\\sigma}^x\\rangle$ or the second order Rényi entropy from the previous notebook (you can copy the functions you implemented).\n",
    "You can still use the `Autoload` function in this exercise, but you should adapt the parameters to the ones you trained your network for.\n",
    "\n",
    "Here is an example:"
   ]
  },
  {
   "cell_type": "code",
   "execution_count": null,
   "metadata": {},
   "outputs": [],
   "source": [
    "from observables import Autoload, Observable"
   ]
  },
  {
   "cell_type": "code",
   "execution_count": null,
   "metadata": {},
   "outputs": [],
   "source": [
    "class ZMagnetization(Observable):\n",
    "    def __init__(self):\n",
    "        self.name = \"SigmaZ\"\n",
    "        self.symbol = \"Z\"\n",
    "\n",
    "    def compute(self, model, sample_size):\n",
    "        samps = model.sample(sample_size)\n",
    "        conv_samples = 2 * jnp.array(samps) - 1\n",
    "\n",
    "        ave_mag = jnp.mean(jnp.abs(jnp.mean(conv_samples, axis = 1)))\n",
    "\n",
    "        return ave_mag.item()\n",
    "    \n",
    "nn_state = Autoload(\n",
    "    output_dim = vmc.output_dim,\n",
    "    num_hidden_units = vmc.num_hidden_units,\n",
    "    sequence_length = vmc.sequence_length,\n",
    "    use_my_params = True, \n",
    "    my_model = model, \n",
    "    my_params = latest_params\n",
    ")\n",
    "magnet_z = ZMagnetization()\n",
    "magnet_z.compute(model = nn_state, sample_size = 2000)"
   ]
  },
  {
   "cell_type": "markdown",
   "metadata": {},
   "source": [
    "Now it is your turn - play around with the different network parameters! You can adapt the number of samples, training iterations, learning rate, number of hidden units, etc. and look at the behaviour of the evaluated observables.\n",
    "\n",
    "In order to check the accuracy for the ground state representation of your trained network, compare the energy expectation value with the exact energy density for the ground state. Here are some exact energy densities for different system sizes, so that you can also adapt the number of atoms in your square array and see how the network performance changes:\n",
    "- $4\\times 4$: $E_{\\mathrm{exact}} = -0.4534 +/- 0.0001$\n",
    "- $6\\times 6$: $E_{\\mathrm{exact}} = -0.4221 +/- 0.0005$\n",
    "- $8\\times 8$: $E_{\\mathrm{exact}} = -0.4052 +/- 0.0002$\n",
    "- $12\\times 12$: $E_{\\mathrm{exact}} = -0.3885 +/- 0.0002$\n",
    "- $16\\times 16$: $E_{\\mathrm{exact}} = -0.3805 +/- 0.0002$\n",
    "\n",
    "Mind that these energies are only true for all-to-all interactions. For nearest neighbour and next-nearest neighbour interactions, we do not know the exact energy densities.\n",
    "\n",
    "Now it is your turn - play around with the different parameters and experience the behaviour of the RNN! Feel free to modify this notebook to your own liking by adding cells and plotting observables."
   ]
  },
  {
   "cell_type": "code",
   "execution_count": null,
   "metadata": {},
   "outputs": [],
   "source": []
  }
 ],
 "metadata": {
  "kernelspec": {
   "display_name": "Python 3 (ipykernel)",
   "language": "python",
   "name": "python3"
  },
  "language_info": {
   "codemirror_mode": {
    "name": "ipython",
    "version": 3
   },
   "file_extension": ".py",
   "mimetype": "text/x-python",
   "name": "python",
   "nbconvert_exporter": "python",
   "pygments_lexer": "ipython3",
   "version": "3.9.6"
  }
 },
 "nbformat": 4,
 "nbformat_minor": 4
}
