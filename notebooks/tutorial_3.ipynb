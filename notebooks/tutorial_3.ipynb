{
 "cells": [
  {
   "cell_type": "markdown",
   "metadata": {},
   "source": [
    "# **Getting Experience**\n",
    "\n",
    "\n",
    "**Note**: *You may initialize a small Transformer model if you wish to see it in action but it is computationally expensive and not recommended to use in this environment. You should focus on using the `RNN` for this exercise.*"
   ]
  },
  {
   "cell_type": "markdown",
   "metadata": {},
   "source": [
    "The objective of this module is for you to get experience in experimenting with different model parameters and see how they influence the computation of your observables. In the previous tutorial, you used a pretrained network to compute obervables but in this case, you will train your own network and use it to compute observables."
   ]
  },
  {
   "cell_type": "markdown",
   "metadata": {},
   "source": [
    "# Knowing Our ToolBox"
   ]
  },
  {
   "cell_type": "markdown",
   "metadata": {},
   "source": [
    "## Set Up the File System\n",
    "\n",
    "Set up the file system to accommodate the imports that we need"
   ]
  },
  {
   "cell_type": "code",
   "execution_count": 1,
   "metadata": {},
   "outputs": [
    {
     "name": "stdout",
     "output_type": "stream",
     "text": [
      "sys.path: ['/Library/Frameworks/Python.framework/Versions/3.11/lib/python311.zip', '/Library/Frameworks/Python.framework/Versions/3.11/lib/python3.11', '/Library/Frameworks/Python.framework/Versions/3.11/lib/python3.11/lib-dynload', '', '/Users/lere/Documents/summer_school_folders/apriquot/abriQot/venv/lib/python3.11/site-packages', '/Users/lere/Documents/summer_school_folders/apriquot/abriQot/src', '/Users/lere/Documents/summer_school_folders/apriquot/abriQot/notebooks/observables']\n"
     ]
    }
   ],
   "source": [
    "import sys\n",
    "import pathlib\n",
    "\n",
    "# Calculate the path to the src directory\n",
    "src_path = pathlib.Path('__file__').resolve().parent.parent / 'src'\n",
    "obs_path = pathlib.Path('__file__').resolve().parent.parent / \"notebooks\" / \"observables\"\n",
    "\n",
    "\n",
    "# Add src directory to sys.path\n",
    "for path in (src_path, obs_path):\n",
    "    if src_path not in sys.path:\n",
    "        sys.path.append(str(path))\n",
    "\n",
    "\n",
    "# Verify that the path has been added\n",
    "print(f\"sys.path: {sys.path}\")"
   ]
  },
  {
   "cell_type": "markdown",
   "metadata": {},
   "source": [
    "## Interactions\n",
    "\n",
    "### Interaction Type\n",
    "We will look at the interactions between our lattice positions. `InteractionType` provides us with the option to select one of the following\n",
    "\n",
    "- Nearest Neigbour interactions\n",
    "- Nearest Nearest Neigbour interactions\n",
    "- All to all interactions\n",
    "\n",
    "You select whichever you desire.\n",
    "\n",
    "### van der Waals Potential\n",
    "\n",
    "Given that \n",
    "\n",
    "$$V_{ij} = \\frac{C_6}{r_{ij}^6} \\text{ where } C_6 = \\Omega R_b^6$$\n",
    "\n",
    "we get,\n",
    "\n",
    "$$V_{ij} = \\frac{\\Omega R_b^6}{r_{ij}^6}$$\n",
    "\n",
    "You can define the interaction potential by supplying\n",
    "\n",
    "- $\\Omega$: Rabi's frequency; the default is $\\Omega = 1$.\n",
    "\n",
    "- $\\R_b$: Rydberg blockade radius; the default is $R_b = 7^{\\frac{1}{6}}$\n",
    "\n",
    "\n",
    "All these would need to be plugged into the `InteractionsInput` class. The `get_interaction` takes to inputs to return a tuple. It takes the following\n",
    "\n",
    "\n",
    "- `n`: this is the width / height of your lattice. $n = 4$ for a $4 x 4$ lattice\n",
    "- `interac_input`: this should be an instance of the `InteractionsInput` mentioned earlier.\n",
    "\n",
    "and returns \n",
    "\n",
    "- unique_pairs - all the possible lattice pairs ${ij}$ as chosen in your interaction type\n",
    "- multipliers - their multiplier coefficients $V_{ij}$"
   ]
  },
  {
   "cell_type": "code",
   "execution_count": 2,
   "metadata": {},
   "outputs": [],
   "source": [
    "# from interactions import InteractionsInput, InteractionType, get_interactions\n",
    "# src_path = pathlib.Path('__file__').resolve().parent.parent / 'src'\n",
    "# sys.path.append(str(src_path))\n",
    "import interactions as itrs"
   ]
  },
  {
   "cell_type": "code",
   "execution_count": 3,
   "metadata": {},
   "outputs": [
    {
     "name": "stdout",
     "output_type": "stream",
     "text": [
      "My input looks like: \n",
      "\tInteractionsInput(interaction_type=<InteractionType.NN: 'nn'>, Omega=0.5, rydberg_blockade=1.3830875542684884)\n"
     ]
    }
   ],
   "source": [
    "Omega = 0.5\n",
    "rydberg_blockade = pow(7, 1/6)\n",
    "inter_type = itrs.InteractionType.NN\n",
    "my_input = itrs.InteractionsInput(\n",
    "    interaction_type = inter_type,\n",
    "    Omega = Omega,\n",
    "    rydberg_blockade = rydberg_blockade\n",
    ")\n",
    "\n",
    "print(f\"My input looks like: \\n\\t{my_input}\")\n",
    "\n",
    "unique_pairs, multipliers = itrs.get_interactions(4, my_input)"
   ]
  },
  {
   "cell_type": "code",
   "execution_count": 4,
   "metadata": {},
   "outputs": [
    {
     "data": {
      "text/plain": [
       "(24, 2)"
      ]
     },
     "execution_count": 4,
     "metadata": {},
     "output_type": "execute_result"
    }
   ],
   "source": [
    "unique_pairs.shape"
   ]
  },
  {
   "cell_type": "code",
   "execution_count": 5,
   "metadata": {},
   "outputs": [
    {
     "data": {
      "text/plain": [
       "(24,)"
      ]
     },
     "execution_count": 5,
     "metadata": {},
     "output_type": "execute_result"
    }
   ],
   "source": [
    "multipliers.shape"
   ]
  },
  {
   "cell_type": "markdown",
   "metadata": {},
   "source": [
    "## Variational Ansatz\n",
    "\n",
    "Now, let us look at the provided `VMC` class. This class provides you with the following methods:\n",
    "\n",
    "- `sample`: for sampling from the network\n",
    "- `logpsi`: for computing the log of your amplitudes\n",
    "- `local_energy`: for computing the local energies of the sample configurations\n",
    "- `loss`: for computing the loss function which in this case is the expectation of the energy\n",
    "- `train`: this implements the training loop and returns the metric (energy density) over the training epochs\n",
    "\n",
    "In this exercise, you will only need to initialize the class and call the `train` method. Every other operation will take place as defined in the class. The `VMC` class taes the following positional arguments:\n",
    "\n",
    "- `nsamples: int` - The batch size of samples\n",
    "- `n: int` - The width/height of the lattice\n",
    "- `learning_rate: float` - The mdoel weights are optimized using `Adam`. This is the learning rate\n",
    "- `num_epochs: int` - Number of training steps to take\n",
    "- `output_dim: int` - This will be 2 since we are dealing with spin-$\\frac{1}{2}$ system\n",
    "- `sequence_length: int` - This amounts to $n \\otimes n$ e.g. $16$ for a $4 x 4$ lattice\n",
    "- `num_hidden_units: int` - Number of hidden units in our RNN. Increasing/decreasing the number of neurons impoacts the learning capacity of the network. You may want to place around with this number.\n",
    "\n",
    "It can take the following optional keyword argumnets. **You will have to pass them to the class in this exercise**:\n",
    "\n",
    "- `delta: Union[int, float]` - The detuning of the laser\n",
    "- `Omega: Union[int, float]` - The Rabi frequency\n",
    "- `interactions: Optional[Callable]` - The `get_interactions` function\n",
    "- `interactions_input: Optional[Any]` - The inputs for `get_interactions` function"
   ]
  },
  {
   "cell_type": "code",
   "execution_count": 6,
   "metadata": {},
   "outputs": [
    {
     "name": "stderr",
     "output_type": "stream",
     "text": [
      "WARNING:absl:Tensorflow library not found, tensorflow.io.gfile operations will use native shim calls. GCS paths (i.e. 'gs://...') cannot be accessed.\n"
     ]
    }
   ],
   "source": [
    "from jax import random\n",
    "from rnn_model import VMC, RNNModel\n",
    "from jax import numpy as jnp"
   ]
  },
  {
   "cell_type": "code",
   "execution_count": 7,
   "metadata": {},
   "outputs": [
    {
     "data": {
      "text/plain": [
       "VMC(nsamples=1000, n=4, learning_rate=0.05, num_epochs=500, output_dim=2, sequence_length=16, num_hidden_units=64, delta=1.0, Omega=0.5, interactions_func=<function get_interactions at 0x107886980>, interactions_input=InteractionsInput(interaction_type=<InteractionType.NN: 'nn'>, Omega=0.5, rydberg_blockade=1.3830875542684884))"
      ]
     },
     "execution_count": 7,
     "metadata": {},
     "output_type": "execute_result"
    }
   ],
   "source": [
    "vmc = VMC(\n",
    "    nsamples = 1000, \n",
    "    n = 4, \n",
    "    learning_rate = 0.05, \n",
    "    num_epochs = 500,\n",
    "    output_dim = 2, \n",
    "    sequence_length = 16,\n",
    "    num_hidden_units = 64,\n",
    "    delta = 1.0,\n",
    "    Omega = Omega,\n",
    "    interactions_func = itrs.get_interactions,\n",
    "    interactions_input = my_input,\n",
    ")\n",
    "\n",
    "vmc"
   ]
  },
  {
   "cell_type": "code",
   "execution_count": 8,
   "metadata": {},
   "outputs": [
    {
     "name": "stdout",
     "output_type": "stream",
     "text": [
      "Training started\n"
     ]
    },
    {
     "data": {
      "application/vnd.jupyter.widget-view+json": {
       "model_id": "8f1fe2af6f30409d9b74633493e180e0",
       "version_major": 2,
       "version_minor": 0
      },
      "text/plain": [
       "Epochs:   0%|          | 0/500 [00:00<?, ?it/s]"
      ]
     },
     "metadata": {},
     "output_type": "display_data"
    }
   ],
   "source": [
    "# Prepare initial variables\n",
    "\n",
    "dummy_nsmaples = 500\n",
    "sequence_length = 16\n",
    "output_dim = 2\n",
    "num_hidden_units = 64\n",
    "d_key = random.PRNGKey(0)\n",
    "\n",
    "# Initialize model\n",
    "model = RNNModel(\n",
    "    output_dim = output_dim,\n",
    "    num_hidden_units = num_hidden_units\n",
    ")\n",
    "\n",
    "# Initialize model parameters\n",
    "dummy_input = jnp.zeros((dummy_nsmaples, sequence_length, output_dim))\n",
    "params = model.init(random.PRNGKey(0), dummy_input)\n",
    "\n",
    "\n",
    "# Run training loop\n",
    "e_den, latest_params = vmc.train(random.PRNGKey(123), params, model, return_params=True)"
   ]
  },
  {
   "cell_type": "markdown",
   "metadata": {},
   "source": [
    "# YOUR TASK\n",
    "\n",
    "**Your assignment *:) should you choose to accpet it :)* is to train your own network and use it compute off-diagonal observables. You will still use `Autoload` in this exercise but with different parameters.**\n",
    "\n",
    "See the following for example"
   ]
  },
  {
   "cell_type": "code",
   "execution_count": 9,
   "metadata": {},
   "outputs": [],
   "source": [
    "from observables import Autoload, Observable"
   ]
  },
  {
   "cell_type": "code",
   "execution_count": 10,
   "metadata": {},
   "outputs": [
    {
     "data": {
      "text/plain": [
       "0.17750000953674316"
      ]
     },
     "execution_count": 10,
     "metadata": {},
     "output_type": "execute_result"
    }
   ],
   "source": [
    "class ZMagnetization(Observable):\n",
    "    def __init__(self):\n",
    "        self.name = \"SigmaZ\"\n",
    "        self.symbol = \"Z\"\n",
    "\n",
    "    def compute(self, model, sample_size):\n",
    "        samps = model.sample(sample_size)\n",
    "        conv_samples = 2 * jnp.array(samps) - 1\n",
    "\n",
    "        ave_mag = jnp.mean(jnp.abs(jnp.mean(conv_samples, axis = 1)))\n",
    "\n",
    "        return ave_mag.item()\n",
    "    \n",
    "nn_state = Autoload(\n",
    "    output_dim = 2,\n",
    "    num_hidden_units = 64,\n",
    "    sequence_length = 16,\n",
    "    use_my_params=True, \n",
    "    my_model=model, \n",
    "    my_params=latest_params\n",
    ")\n",
    "magnet_z = ZMagnetization()\n",
    "magnet_z.compute(model = nn_state, sample_size = 2000)"
   ]
  }
 ],
 "metadata": {
  "kernelspec": {
   "display_name": "venv",
   "language": "python",
   "name": "python3"
  },
  "language_info": {
   "codemirror_mode": {
    "name": "ipython",
    "version": 3
   },
   "file_extension": ".py",
   "mimetype": "text/x-python",
   "name": "python",
   "nbconvert_exporter": "python",
   "pygments_lexer": "ipython3",
   "version": "3.11.0"
  }
 },
 "nbformat": 4,
 "nbformat_minor": 2
}
